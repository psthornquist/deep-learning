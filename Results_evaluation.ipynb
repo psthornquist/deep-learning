{
  "nbformat": 4,
  "nbformat_minor": 0,
  "metadata": {
    "colab": {
      "name": "Results_evaluation.ipynb",
      "provenance": [],
      "collapsed_sections": [],
      "authorship_tag": "ABX9TyO5iyJBuNPjKs0pZG2oQ7kw",
      "include_colab_link": true
    },
    "kernelspec": {
      "name": "python3",
      "display_name": "Python 3"
    },
    "language_info": {
      "name": "python"
    }
  },
  "cells": [
    {
      "cell_type": "markdown",
      "metadata": {
        "id": "view-in-github",
        "colab_type": "text"
      },
      "source": [
        "<a href=\"https://colab.research.google.com/github/psthornquist/deep-learning/blob/main/Results_evaluation.ipynb\" target=\"_parent\"><img src=\"https://colab.research.google.com/assets/colab-badge.svg\" alt=\"Open In Colab\"/></a>"
      ]
    },
    {
      "cell_type": "code",
      "execution_count": null,
      "metadata": {
        "id": "eAVH70Oar5Ri"
      },
      "outputs": [],
      "source": [
        ""
      ]
    },
    {
      "cell_type": "markdown",
      "source": [
        " \n",
        "\n",
        "**Which model has a lower loss?**\n",
        "The Closing Price model had the lowest loss.\n",
        "\n",
        "\n",
        "**Which model tracks the actual values better over time?**\n",
        "The Close Price model tracked the actual values best over time. \n",
        "\n",
        "\n",
        "**Which window size works best for the model?**\n",
        "I used a 10 day window size which returned acceptable evaluation scores. "
      ],
      "metadata": {
        "id": "TD6PPeK5r623"
      }
    },
    {
      "cell_type": "code",
      "source": [
        ""
      ],
      "metadata": {
        "id": "0uGxhmh3thiI"
      },
      "execution_count": null,
      "outputs": []
    }
  ]
}